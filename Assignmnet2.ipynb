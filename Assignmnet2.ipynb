{
  "nbformat": 4,
  "nbformat_minor": 0,
  "metadata": {
    "colab": {
      "provenance": []
    },
    "kernelspec": {
      "name": "python3",
      "display_name": "Python 3"
    },
    "language_info": {
      "name": "python"
    }
  },
  "cells": [
    {
      "cell_type": "code",
      "source": [
        "# Question 1.What are data structures, and why are they important?\n",
        "\n",
        "  - Data structures are part of computer science that helps organize, manage, and store dat efficiently.\n",
        "\n",
        "  ## Importance of data structure .\n",
        "\n",
        "    - Problem Solving organize and store data whle algorithm are the steps to process that data . right data structure can save time and use less memory\n",
        "\n",
        "    - Enhances Coding skills making work efficiently and more cleaner and pleasing to eyes\n",
        "\n",
        "    - Better decision making choosing what structure will be suitable data type\n",
        "\n",
        "    - Can help with daily life tasks from  making List to writting your very own program.\n",
        "\n",
        "    - Creativity many famous games were also made using data structures in very small time frame because of  right data structure.\n",
        "\n",
        "\n",
        "# Question 2.Explain the difference between mutable and immutable data types with examples ?\n",
        "\n",
        "\n",
        "    - Mutables - Elements that can be modified with simple instructions .\n",
        "\n",
        "             - List is best example and following examples shows this too\n",
        "             - \"not\" is unwanted in following list\n",
        "\n",
        "\n"
      ],
      "metadata": {
        "id": "oucdi7PNXOEW",
        "collapsed": true
      },
      "execution_count": null,
      "outputs": []
    },
    {
      "cell_type": "code",
      "source": [
        "list = [\"this\",\"is\",\"an\",\"example\",\"of\",\"a\",\"not\",\"mutable\",\"data\",\"type\"]\n"
      ],
      "metadata": {
        "id": "oVDFjgaRdC_u"
      },
      "execution_count": null,
      "outputs": []
    },
    {
      "cell_type": "code",
      "source": [
        "list"
      ],
      "metadata": {
        "colab": {
          "base_uri": "https://localhost:8080/"
        },
        "id": "ehpzCJxndEBG",
        "outputId": "fc4b8550-449b-4c9f-b652-146ed8373baf"
      },
      "execution_count": null,
      "outputs": [
        {
          "output_type": "execute_result",
          "data": {
            "text/plain": [
              "['this', 'is', 'an', 'example', 'of', 'a', 'not', 'mutable', 'data', 'type']"
            ]
          },
          "metadata": {},
          "execution_count": 7
        }
      ]
    },
    {
      "cell_type": "code",
      "source": [
        "list.remove(\"not\")"
      ],
      "metadata": {
        "id": "IICgd2mGebWj"
      },
      "execution_count": null,
      "outputs": []
    },
    {
      "cell_type": "code",
      "source": [
        "list"
      ],
      "metadata": {
        "colab": {
          "base_uri": "https://localhost:8080/"
        },
        "id": "KBW8lfKSeiWl",
        "outputId": "1c6b0230-4856-49c8-9036-19fe49893b07"
      },
      "execution_count": null,
      "outputs": [
        {
          "output_type": "execute_result",
          "data": {
            "text/plain": [
              "['this', 'is', 'an', 'example', 'of', 'a', 'mutable', 'data', 'type']"
            ]
          },
          "metadata": {},
          "execution_count": 13
        }
      ]
    },
    {
      "cell_type": "code",
      "source": [
        "from typing import Tuple\n",
        "#  Immutable Data .\n",
        "\n",
        "   These type of data can not be modified they are fixed Elements\n",
        "\n",
        "   Tuple is best example and following examples shows this too\n",
        "\n",
        "\n"
      ],
      "metadata": {
        "id": "dQFhW3aHejGz"
      },
      "execution_count": null,
      "outputs": []
    },
    {
      "cell_type": "code",
      "source": [
        "mytuple = (\"this\",\"is\",\"an\",\"example\",\"of\",\"a\",\"immutable\",\"data\",\"type\")\n",
        "print(mytuple)\n",
        "\n",
        "this is fixed and can not be modified but choosen to show elements through thier memory list 0,1,2,3 etc\n"
      ],
      "metadata": {
        "colab": {
          "base_uri": "https://localhost:8080/"
        },
        "id": "xB53kxnRf1_b",
        "outputId": "572668a1-b71e-4579-e325-252ea8cd5c87"
      },
      "execution_count": null,
      "outputs": [
        {
          "output_type": "stream",
          "name": "stdout",
          "text": [
            "('this', 'is', 'an', 'example', 'of', 'a', 'immutable', 'data', 'type')\n"
          ]
        }
      ]
    },
    {
      "cell_type": "code",
      "source": [
        "#Question 3  What are the main differences between lists and tuples in Python ?\n",
        "\n",
        "             -List is modifiable  but tupple is not"
      ],
      "metadata": {
        "id": "IT747jbZgMy3"
      },
      "execution_count": null,
      "outputs": []
    },
    {
      "cell_type": "code",
      "source": [
        "#Question 4  Describe how dictionaries store data ?\n",
        "\n",
        "             -Dictionary story data using Hashable structure that allows faster lookups.\n",
        "              each piece of data is stored as a pair -one part to identify and another is actual data .\n",
        "\n",
        "\n",
        "#Question 5  Why might you use a set instead of a list in Python ?\n",
        "\n",
        "            -They are unique, fast for testing purpose , good with large data .\n",
        "\n",
        "\n",
        "#Question 6  What is a string in Python, and how is it different from a list ?\n",
        "\n",
        "             -String is sequence of characters such as (\"pwskills\")\n",
        "\n",
        "\n",
        "              Differences from list\n",
        "\n",
        "\n",
        "                -Text processing\n",
        "\n",
        "                -String is immutable\n",
        "\n",
        "                -Is limited to characters\n",
        "\n",
        "                -Isn't vaersatile like list list can store any data type\n",
        "\n",
        "\n",
        "\n",
        "\n",
        "#Question 7  How do tuples ensure data integrity in Python ?\n",
        "\n",
        "             -They are Immutable so storing anything in tuples can ensure data integrity .\n",
        "              your data stays secure\n",
        "\n",
        "\n",
        "#Question 8   What is a hash table, and how does it relate to dictionaries in Python ?\n",
        "\n",
        "              -A hash table is a data structure that stores key-value pairs using a technique called hashing.\n",
        "               It provides fast lookups, insertions, and deletions—making it incredibly efficient for storing and retrieving data\n",
        "\n",
        "\n",
        "#Question 9   Can lists contain different data types in Python ?\n",
        "\n",
        "              -Yes lists can store different data types with ease no matter how large\n",
        "\n",
        "\n",
        "#Question 10  Explain why strings are immutable in Python ?\n",
        "\n",
        "              -Strings are specific meaning that once a string is created, its contents cannot be changed.It is a fundamental property of a string.\n",
        "\n",
        "\n",
        "#Question 11  What advantages do dictionaries offer over lists for certain tasks ?\n",
        "\n",
        "              -Following are advantages of dictionary over list\n",
        "\n",
        "               -No duplication\n",
        "               -Structured data\n",
        "               -Faster lookups in dictionary\n",
        "               -Very flexible to store complex mapping between data points\n",
        "\n",
        "\n",
        "#Question 12   Describe a scenario where using a tuple would be preferable over a list ?\n",
        "\n",
        "               -Using a tuple would be preferable over a list in scenarios where immutability, performance, and data integrity are important\n",
        "                examples such as Marks , ID number .\n",
        "\n",
        "\n",
        "#Question 13   How do sets handle duplicate values in Python ?\n",
        "\n",
        "               -It is one of thir key feature tonot duplicate data .\n",
        "                Suppose you create or copy data twice becasue its a baked in feature python will ignore it on it's own.\n",
        "\n",
        "\n",
        "#Question 14    How does the “in” keyword work differently for lists and dictionaries ?\n",
        "\n",
        "\n",
        "                -To check existence of an element in a collection.\n",
        "                 However, it behaves differently for lists and dictionaries due to their underlying data structures.\n",
        "\n",
        "\n",
        "\n",
        "#Question 15    Can you modify the elements of a tuple? Explain why or why not ?\n",
        "\n",
        "\n",
        "                -NO you can't change them .They are immutable , tuples are fixed in size, Python can optimize their storage and performance\n",
        "\n",
        "\n",
        "#Question 16    What is a nested dictionary, and give an example of its use case ?\n",
        "\n",
        "\n",
        "                -A Nested dictionary is a dictionary that cantains another dictionar . It is a structured dictionary\n",
        "\n",
        "                 Following is an example os its use\n",
        "\n"
      ],
      "metadata": {
        "id": "mVztNJ1hht_T"
      },
      "execution_count": null,
      "outputs": []
    },
    {
      "cell_type": "code",
      "source": [
        "Employee = {\n",
        "    \"Varun\":{\"age\":26,\"shift\":{\"dept\": 1,\"dept\": 3}}\n",
        "}\n",
        "\n",
        "            #Nested dictionary"
      ],
      "metadata": {
        "id": "P7E63Y6nrsX6"
      },
      "execution_count": null,
      "outputs": []
    },
    {
      "cell_type": "code",
      "source": [
        "#Question 17   Describe the time complexity of accessing elements in a dictionary ?\n",
        "\n",
        "\n",
        "               -Dictionary in python Uses hash code  it is unique is fast cause it doesn't search through everything like a list\n",
        "\n",
        "                It can be slow too if two keys collide\n",
        "\n",
        "\n",
        "\n",
        "#Question 18   In what situations are lists preferred over dictionaries ?\n",
        "\n",
        "               -List can be used while mantaing large prpogressing data type such as performnce for a month .\n",
        "\n",
        "\n",
        "\n",
        "#Question 19   Why are dictionaries considered unordered, and how does that affect data retrieval ?\n",
        "\n",
        "               -Dictionaries in Python are considered unordered because they do not store elements in a fixed sequence.\n",
        "                Instead of keeping items in a strict order like lists, dictionaries use hashing.\n",
        "\n",
        "\n",
        "\n",
        "#Question 20  Explain the difference between a list and a dictionary in terms of data retrieval ?\n",
        "\n",
        "\n",
        "              Dictionary\n",
        "\n",
        "               -Dictionary searches using hash\n",
        "               it is faster than list but there might be chance of collision\n",
        "\n",
        "\n",
        "              List\n",
        "\n",
        "               - Data is stored in order and accessed using an index (list[0], list[1], etc.).\n",
        "\n",
        "                 Searching for a specific value requires scanning the entire list, making lookups slower\n"
      ],
      "metadata": {
        "id": "y1smfPIhu2K0"
      },
      "execution_count": null,
      "outputs": []
    },
    {
      "cell_type": "code",
      "source": [
        "                                                           Practical Questions"
      ],
      "metadata": {
        "id": "tUiW9NKiFFvd"
      },
      "execution_count": null,
      "outputs": []
    },
    {
      "cell_type": "code",
      "source": [
        "#Question 1  Write a code to create a string with your name and print it ?\n",
        "\n",
        "my_name = \"Tarun\"\n",
        "print(my_name)\n",
        "\n"
      ],
      "metadata": {
        "colab": {
          "base_uri": "https://localhost:8080/"
        },
        "id": "iAW4xITGFBny",
        "outputId": "d8372853-77d7-4ea3-c0dd-168355b87dcd"
      },
      "execution_count": 4,
      "outputs": [
        {
          "output_type": "stream",
          "name": "stdout",
          "text": [
            "Tarun\n"
          ]
        }
      ]
    },
    {
      "cell_type": "code",
      "source": [
        "#Question 2 Write a code to find the length of the string \"Hello World\"?\n",
        "\n",
        "My_goal = \"Success\"\n",
        "String_length =len(My_goal)\n",
        "print(String_length)"
      ],
      "metadata": {
        "colab": {
          "base_uri": "https://localhost:8080/"
        },
        "id": "FI_iL_taGI33",
        "outputId": "fd00d87a-e389-4785-be1e-a1bf5d4249e2"
      },
      "execution_count": 8,
      "outputs": [
        {
          "output_type": "stream",
          "name": "stdout",
          "text": [
            "7\n"
          ]
        }
      ]
    },
    {
      "cell_type": "code",
      "source": [
        "#Question 3   Write a code to slice the first 3 characters from the string \"Python Programming\"?\n",
        "\n",
        "\n",
        "my_string = \"Python Programming\"\n",
        "\n",
        "\n",
        "sliced_string = my_string[:3]\n",
        "\n",
        "print(sliced_string)\n"
      ],
      "metadata": {
        "colab": {
          "base_uri": "https://localhost:8080/"
        },
        "id": "CcDxdUVLHOF6",
        "outputId": "48dfbe9c-ab0d-4ad2-8299-924cb66c97e7"
      },
      "execution_count": 16,
      "outputs": [
        {
          "output_type": "stream",
          "name": "stdout",
          "text": [
            "Pyt\n"
          ]
        }
      ]
    },
    {
      "cell_type": "code",
      "source": [
        "#Question 4  Write a code to convert the string \"hello\" to uppercase ?\n",
        "\n",
        "my_string = \"hello\"\n",
        "uppercase_string = my_string.upper()\n",
        "print(uppercase_string)"
      ],
      "metadata": {
        "colab": {
          "base_uri": "https://localhost:8080/"
        },
        "id": "9ulyoDY4Htc8",
        "outputId": "bfe896f5-ca94-4c0a-e238-b6ba2af092b3"
      },
      "execution_count": 19,
      "outputs": [
        {
          "output_type": "stream",
          "name": "stdout",
          "text": [
            "HELLO\n"
          ]
        }
      ]
    },
    {
      "cell_type": "code",
      "source": [
        "#Questyion 5 Write a code to replace the word \"apple\" with \"orange\" in the string \"I like apple\"?\n",
        "\n",
        "my_string = \"i like apple\"\n",
        "new_string = my_string.replace(\"apple\",\"orange\")\n",
        "print(new_string)"
      ],
      "metadata": {
        "colab": {
          "base_uri": "https://localhost:8080/"
        },
        "id": "cNAxRfBALaZJ",
        "outputId": "9c9e544e-5190-4ae5-f056-ededacf16c45"
      },
      "execution_count": 20,
      "outputs": [
        {
          "output_type": "stream",
          "name": "stdout",
          "text": [
            "i like orange\n"
          ]
        }
      ]
    },
    {
      "cell_type": "code",
      "source": [
        "#Question 6 Write a code to replace the word \"apple\" with \"orange\" in the string \"I like apple\"?\n",
        "\n",
        "number_list =[1,2,3,4,5]\n",
        "print(number_list)"
      ],
      "metadata": {
        "colab": {
          "base_uri": "https://localhost:8080/"
        },
        "id": "kCCCuQn3MLhq",
        "outputId": "cf20bc4b-8afc-4ad1-d412-1b56efb47f92"
      },
      "execution_count": 21,
      "outputs": [
        {
          "output_type": "stream",
          "name": "stdout",
          "text": [
            "[1, 2, 3, 4, 5]\n"
          ]
        }
      ]
    },
    {
      "cell_type": "code",
      "source": [
        "#Question 7  Write a code to append the number 10 to the list [1, 2, 3, 4]?\n",
        "\n",
        "list = [1,2,3,4,]\n",
        "list.append(10)\n",
        "print(list)"
      ],
      "metadata": {
        "colab": {
          "base_uri": "https://localhost:8080/"
        },
        "id": "f4cNWnKnO-Tx",
        "outputId": "848896d5-3f45-4d38-8c0b-5a44f12902fe"
      },
      "execution_count": 23,
      "outputs": [
        {
          "output_type": "stream",
          "name": "stdout",
          "text": [
            "[1, 2, 3, 4, 10]\n"
          ]
        }
      ]
    },
    {
      "cell_type": "code",
      "source": [
        "#Question 8 Write a code to remove the number 3 from the list [1, 2, 3, 4, 5]?\n",
        "\n",
        "list = [1,2,3,4,5]\n",
        "list.remove(3)\n",
        "print(list)\n"
      ],
      "metadata": {
        "colab": {
          "base_uri": "https://localhost:8080/"
        },
        "id": "cPiZCFhzPbhR",
        "outputId": "f403adf6-6369-4d2e-afe8-3a7b57230fbd"
      },
      "execution_count": 24,
      "outputs": [
        {
          "output_type": "stream",
          "name": "stdout",
          "text": [
            "[1, 2, 4, 5]\n"
          ]
        }
      ]
    },
    {
      "cell_type": "code",
      "source": [
        "#Question 9  Write a code to access the second element in the list ['a', 'b', 'c', 'd']?\n",
        "\n",
        "\n",
        "my_list = ['a', 'b', 'c', 'd']\n",
        "second_element = my_list[1]\n",
        "print(second_element)\n"
      ],
      "metadata": {
        "colab": {
          "base_uri": "https://localhost:8080/"
        },
        "id": "12GWrql_Qii4",
        "outputId": "cdc405c4-2c81-43d0-81f5-d00ae503c185"
      },
      "execution_count": 25,
      "outputs": [
        {
          "output_type": "stream",
          "name": "stdout",
          "text": [
            "b\n"
          ]
        }
      ]
    },
    {
      "cell_type": "code",
      "source": [
        "#Question 10  Write a code to reverse the list [10, 20, 30, 40, 50]?\n",
        "\n",
        "my_list = [10,20,30,40,50]\n",
        "reversed_list = my_list[::-1]\n",
        "print(reversed_list)"
      ],
      "metadata": {
        "colab": {
          "base_uri": "https://localhost:8080/"
        },
        "id": "m9JGbX-tRLCu",
        "outputId": "e7c6b19c-19fb-4740-e1d5-8b3fcd23f3bf"
      },
      "execution_count": 27,
      "outputs": [
        {
          "output_type": "stream",
          "name": "stdout",
          "text": [
            "[50, 40, 30, 20, 10]\n"
          ]
        }
      ]
    },
    {
      "cell_type": "code",
      "source": [
        "#Question 11   Write a code to create a tuple with the elements 100, 200, 300 and print it.\n",
        "\n",
        "my_tuple = (100,200,300)\n",
        "print(my_tuple)"
      ],
      "metadata": {
        "colab": {
          "base_uri": "https://localhost:8080/"
        },
        "id": "0mTLDGtlRv12",
        "outputId": "5664bf64-ef46-4ef5-c0a0-66045374bd42"
      },
      "execution_count": 28,
      "outputs": [
        {
          "output_type": "stream",
          "name": "stdout",
          "text": [
            "(100, 200, 300)\n"
          ]
        }
      ]
    },
    {
      "cell_type": "code",
      "source": [
        "#Question 12  Write a code to access the second-to-last element of the tuple ('red', 'green', 'blue', 'yellow') ?\n",
        "\n",
        "my_tuple = (\"red\",\"blue\",\"green\")\n",
        "second_to_last = my_tuple[-2]\n",
        "print(second_to_last)\n"
      ],
      "metadata": {
        "colab": {
          "base_uri": "https://localhost:8080/"
        },
        "id": "Wbul2TA1fdWe",
        "outputId": "1394facc-395c-45af-9b8e-038551eb4420"
      },
      "execution_count": 30,
      "outputs": [
        {
          "output_type": "stream",
          "name": "stdout",
          "text": [
            "blue\n"
          ]
        }
      ]
    },
    {
      "cell_type": "code",
      "source": [
        "#Question 13  Write a code to find the minimum number in the tuple (10, 20, 5, 15) ?\n",
        "\n",
        "my_tuple = [10,20,5,15]\n",
        "minimum_number = min(my_tuple)\n",
        "print(minimum_number)\n"
      ],
      "metadata": {
        "colab": {
          "base_uri": "https://localhost:8080/"
        },
        "id": "60SG-w4XhVQc",
        "outputId": "7c8107f7-5ddb-4c2e-e152-132c010bdf9a"
      },
      "execution_count": 33,
      "outputs": [
        {
          "output_type": "stream",
          "name": "stdout",
          "text": [
            "5\n"
          ]
        }
      ]
    },
    {
      "cell_type": "code",
      "source": [
        "#Question 14 Write a code to find the index of the element \"cat\" in the tuple ('dog', 'cat', 'rabbit').\n",
        "\n",
        "my_tuple = ['dog','cat','rabbit']\n",
        "index_of_cat = my_tuple.index('cat')\n",
        "print(index_of_cat)"
      ],
      "metadata": {
        "colab": {
          "base_uri": "https://localhost:8080/"
        },
        "id": "I4yg28UAibVT",
        "outputId": "de93a1d9-6e05-4613-a4f3-5666df32ca9b"
      },
      "execution_count": 34,
      "outputs": [
        {
          "output_type": "stream",
          "name": "stdout",
          "text": [
            "1\n"
          ]
        }
      ]
    },
    {
      "cell_type": "code",
      "source": [
        "#Question 15  Write a code to create a tuple containing three different fruits and check if \"kiwi\" is in it.?\n",
        "\n",
        "fruit_tuple = ['melon','banana','apple' ]\n",
        "is_kiwi_in_tuple = 'kiwi' in fruit_tuple\n",
        "print(is_kiwi_in_tuple)"
      ],
      "metadata": {
        "colab": {
          "base_uri": "https://localhost:8080/"
        },
        "id": "ia2vc_6AjRG9",
        "outputId": "f516a5c1-dc85-4c62-84d3-a47db876213a"
      },
      "execution_count": 35,
      "outputs": [
        {
          "output_type": "stream",
          "name": "stdout",
          "text": [
            "False\n"
          ]
        }
      ]
    },
    {
      "cell_type": "code",
      "source": [
        "#Question 16  Write a code to create a set with the elements 'a', 'b', 'c' and print it ?\n",
        "\n",
        "my_set = ['a','b','c']\n",
        "print(my_set)\n",
        "\n"
      ],
      "metadata": {
        "colab": {
          "base_uri": "https://localhost:8080/"
        },
        "id": "9J1Ko52Bj_R9",
        "outputId": "1259d68e-8b83-4923-af2e-1bf73dd126a7"
      },
      "execution_count": 36,
      "outputs": [
        {
          "output_type": "stream",
          "name": "stdout",
          "text": [
            "['a', 'b', 'c']\n"
          ]
        }
      ]
    },
    {
      "cell_type": "code",
      "source": [
        "#Question 17  Write a code to clear all elements from the set {1, 2, 3, 4, 5} ?\n",
        "\n",
        "my_set = [1,2,3,4,5]\n",
        "my_set.clear()\n",
        "print(my_set)\n",
        "\n"
      ],
      "metadata": {
        "colab": {
          "base_uri": "https://localhost:8080/"
        },
        "id": "ksfkFVFIkUZb",
        "outputId": "2fec96f4-e314-4e26-ba46-ddbba0b5b56e"
      },
      "execution_count": 37,
      "outputs": [
        {
          "output_type": "stream",
          "name": "stdout",
          "text": [
            "[]\n"
          ]
        }
      ]
    },
    {
      "cell_type": "code",
      "source": [
        "#Question 18  Write a code to remove the element 4 from the set {1, 2, 3, 4}.?\n",
        "\n",
        "my_set = [1,2,3,4]\n",
        "my_set.remove(4)\n",
        "print(my_set)"
      ],
      "metadata": {
        "colab": {
          "base_uri": "https://localhost:8080/"
        },
        "id": "IP8TPRJAmtmF",
        "outputId": "cd2fc548-496e-406d-c231-322d3d1b885c"
      },
      "execution_count": 39,
      "outputs": [
        {
          "output_type": "stream",
          "name": "stdout",
          "text": [
            "[1, 2, 3]\n"
          ]
        }
      ]
    },
    {
      "cell_type": "code",
      "source": [
        "#Question 19  Write a code to find the union of two sets {1, 2, 3} and {3, 4, 5} ?\n",
        "\n",
        "set1 = {1,2,3}\n",
        "set2 = {3,4,5}\n",
        "union_set = set1.union(set2)\n",
        "print(union_set)"
      ],
      "metadata": {
        "colab": {
          "base_uri": "https://localhost:8080/"
        },
        "id": "QjBXkr8-nE1L",
        "outputId": "ef418c49-115d-47a0-9355-60669c67e0fb"
      },
      "execution_count": 47,
      "outputs": [
        {
          "output_type": "stream",
          "name": "stdout",
          "text": [
            "{1, 2, 3, 4, 5}\n"
          ]
        }
      ]
    },
    {
      "cell_type": "code",
      "source": [
        "#Question 20  Write a code to find the intersection of two sets {1, 2, 3} and {2, 3, 4}. ?\n",
        "\n",
        "set1 = {1,2,3}\n",
        "set2 = {2,3,4}\n",
        "intersection_set = set1.intersection(set2)\n",
        "print(intersection_set)"
      ],
      "metadata": {
        "colab": {
          "base_uri": "https://localhost:8080/"
        },
        "id": "U0JFTA7nnoU4",
        "outputId": "f3ac86a0-f4d1-4391-d57c-9ad8482e25ba"
      },
      "execution_count": 53,
      "outputs": [
        {
          "output_type": "stream",
          "name": "stdout",
          "text": [
            "{2, 3}\n"
          ]
        }
      ]
    },
    {
      "cell_type": "code",
      "source": [
        "#Question 21 . Write a code to create a dictionary with the keys \"name\", \"age\", and \"city\", and print it. ?\n",
        "\n",
        "person_info = { 'name':'tarun', 'age': 26,'city': 'delhi'}\n",
        "print(person_info)"
      ],
      "metadata": {
        "colab": {
          "base_uri": "https://localhost:8080/"
        },
        "id": "XnOKnbczuogb",
        "outputId": "44d33166-880a-4217-cc6d-9d30f6cd6fef"
      },
      "execution_count": 57,
      "outputs": [
        {
          "output_type": "stream",
          "name": "stdout",
          "text": [
            "{'name': 'tarun', 'age': 26, 'city': 'delhi'}\n"
          ]
        }
      ]
    },
    {
      "cell_type": "code",
      "source": [
        "#Question 22 Write a code to add a new key-value pair \"country\": \"USA\" to the dictionary {'name': 'John', 'age': 25} ?\n",
        "\n",
        "person_info = {'name': 'John','age':25}\n",
        "person_info[\"country\"] = 'USA'\n",
        "print(person_info)"
      ],
      "metadata": {
        "colab": {
          "base_uri": "https://localhost:8080/"
        },
        "id": "RzHRNzx-wONG",
        "outputId": "eda6073a-97d6-4fbe-df13-7d56d7e693ca"
      },
      "execution_count": 58,
      "outputs": [
        {
          "output_type": "stream",
          "name": "stdout",
          "text": [
            "{'name': 'John', 'age': 25, 'country': 'USA'}\n"
          ]
        }
      ]
    },
    {
      "cell_type": "code",
      "source": [
        "#Question 23  Write a code to access the value associated with the key \"name\" in the dictionary {'name': 'Alice', 'age': 30} ?\n",
        "\n",
        "person_info = {'name':'Alice', 'age':30}\n",
        "name_value = person_info['name']\n",
        "print(name_value)"
      ],
      "metadata": {
        "colab": {
          "base_uri": "https://localhost:8080/"
        },
        "id": "5AgrKX3sxJsT",
        "outputId": "11969fa4-955c-49c0-bfbb-0b045f7446d6"
      },
      "execution_count": 61,
      "outputs": [
        {
          "output_type": "stream",
          "name": "stdout",
          "text": [
            "Alice\n"
          ]
        }
      ]
    },
    {
      "cell_type": "code",
      "source": [
        "#Question 24  Write a code to remove the key \"age\" from the dictionary {'name': 'Bob', 'age': 22, 'city': 'New York'} ?\n",
        "\n",
        "person_info = {'name':'bob','age':22, 'city':'New York'}\n",
        "person_info.pop (\"age\")\n",
        "print(person_info)"
      ],
      "metadata": {
        "colab": {
          "base_uri": "https://localhost:8080/"
        },
        "id": "zbEGMzc-x2Qy",
        "outputId": "8f7abee2-b764-4c3d-cdc0-00f70046a56f"
      },
      "execution_count": 73,
      "outputs": [
        {
          "output_type": "stream",
          "name": "stdout",
          "text": [
            "{'name': 'bob', 'city': 'New York'}\n"
          ]
        }
      ]
    },
    {
      "cell_type": "code",
      "source": [
        "#Question 25 Write a code to check if the key \"city\" exists in the dictionary {'name': 'Alice', 'city': 'Paris'} ?\n",
        "\n",
        "person_info = {'name': 'ALice','city': 'Paris'}\n",
        "key_exists = 'city' in  person_info\n",
        "print(person_info)\n"
      ],
      "metadata": {
        "colab": {
          "base_uri": "https://localhost:8080/"
        },
        "id": "L9oGTHRsyf0R",
        "outputId": "171266ec-36dd-4adf-ab88-f9a5f00ba983"
      },
      "execution_count": 74,
      "outputs": [
        {
          "output_type": "stream",
          "name": "stdout",
          "text": [
            "{'name': 'ALice', 'city': 'Paris'}\n"
          ]
        }
      ]
    },
    {
      "cell_type": "code",
      "source": [
        "#Question 26  Write a code to create a list, a tuple, and a dictionary, and print them all. ?\n",
        "\n",
        "my_list = [1,2,3,4,5]\n",
        "my_tuple = ('apple','kiwi')\n",
        "my_dictionary = {'name': ' tarun', 'age': 26}\n",
        "print(my_list)\n",
        "print(my_tuple)\n",
        "print(my_dictionary)"
      ],
      "metadata": {
        "colab": {
          "base_uri": "https://localhost:8080/"
        },
        "id": "jbGqcGiE1khJ",
        "outputId": "42cd3557-155a-4d1f-c5c8-f256d9df5a51"
      },
      "execution_count": 75,
      "outputs": [
        {
          "output_type": "stream",
          "name": "stdout",
          "text": [
            "[1, 2, 3, 4, 5]\n",
            "('apple', 'kiwi')\n",
            "{'name': ' tarun', 'age': 26}\n"
          ]
        }
      ]
    },
    {
      "cell_type": "code",
      "source": [
        "#Question 27 Write a code to create a list of 5 random numbers between 1 and 100, sort it in ascending order, and print the result.(replaced) ?\n",
        "\n",
        "import random\n",
        "\n",
        "random_numbers = random.sample(range(1,101),5)\n",
        "random_numbers.sort()\n",
        "print(random_numbers)\n",
        "\n"
      ],
      "metadata": {
        "colab": {
          "base_uri": "https://localhost:8080/"
        },
        "id": "7vCrDR823NJ1",
        "outputId": "9bc7b2ac-c940-466a-c880-9879c4b425f4"
      },
      "execution_count": 4,
      "outputs": [
        {
          "output_type": "stream",
          "name": "stdout",
          "text": [
            "[3, 43, 62, 80, 86]\n"
          ]
        }
      ]
    },
    {
      "cell_type": "code",
      "source": [
        "#Question 28 Write a code to create a list with strings and print the element at the third index.\n",
        "\n",
        "\n",
        "my_list = [\"apple\", \"banana\", \"cherry\", \"kiwi\", \"elderberry\"]\n",
        "\n",
        "\n",
        "third_index_element = my_list[3]\n",
        "\n",
        "\n",
        "print(third_index_element)\n"
      ],
      "metadata": {
        "colab": {
          "base_uri": "https://localhost:8080/"
        },
        "id": "Mnt3Rs8bYetk",
        "outputId": "ed2f89d4-4622-458a-c4c4-3ab6c9022e76"
      },
      "execution_count": 6,
      "outputs": [
        {
          "output_type": "stream",
          "name": "stdout",
          "text": [
            "kiwi\n"
          ]
        }
      ]
    },
    {
      "cell_type": "code",
      "source": [
        "#Question 29 Write a code to combine two dictionaries into one and print the result ?\n",
        "\n",
        "\n",
        "\n",
        "dict1 = {\"name\": \"Alice\", \"age\": 25}\n",
        "dict2 = {\"city\": \"New York\", \"country\": \"USA\"}\n",
        "combined_dict = {**dict1, **dict2}\n",
        "print(combined_dict)\n"
      ],
      "metadata": {
        "colab": {
          "base_uri": "https://localhost:8080/"
        },
        "id": "lkYU00pkZ_OZ",
        "outputId": "91b668d9-18ae-4df4-94a4-c293deffaa6e"
      },
      "execution_count": 7,
      "outputs": [
        {
          "output_type": "stream",
          "name": "stdout",
          "text": [
            "{'name': 'Alice', 'age': 25, 'city': 'New York', 'country': 'USA'}\n"
          ]
        }
      ]
    },
    {
      "cell_type": "code",
      "source": [
        "#Question 30. Write a code to convert a list of strings into a set. ?\n",
        "\n",
        "\n",
        "string_list = [\"apple\", \"banana\", \"cherry\", \"apple\", \"banana\"]\n",
        "string_set = set(string_list)\n",
        "print(string_set)\n"
      ],
      "metadata": {
        "colab": {
          "base_uri": "https://localhost:8080/"
        },
        "id": "pBM9gZDzaUJ3",
        "outputId": "3fd8e6d5-dc14-4cac-af98-93f872175a3d"
      },
      "execution_count": 8,
      "outputs": [
        {
          "output_type": "stream",
          "name": "stdout",
          "text": [
            "{'banana', 'cherry', 'apple'}\n"
          ]
        }
      ]
    },
    {
      "cell_type": "code",
      "source": [],
      "metadata": {
        "id": "8nh42NvYaqkK"
      },
      "execution_count": null,
      "outputs": []
    }
  ]
}